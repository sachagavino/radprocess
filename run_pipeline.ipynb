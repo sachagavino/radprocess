{
 "cells": [
  {
   "cell_type": "code",
   "execution_count": 4,
   "metadata": {},
   "outputs": [
    {
     "name": "stdout",
     "output_type": "stream",
     "text": [
      "Python 3.10.16\n"
     ]
    }
   ],
   "source": [
    "!python --version"
   ]
  },
  {
   "cell_type": "code",
   "execution_count": 1,
   "metadata": {},
   "outputs": [],
   "source": [
    "import radprocess.pipeline as pipeline\n",
    "\n",
    "import radprocess.plotting.plot as plot"
   ]
  },
  {
   "cell_type": "code",
   "execution_count": 2,
   "metadata": {},
   "outputs": [],
   "source": [
    "enygma_model1 = pipeline.Interface()"
   ]
  },
  {
   "cell_type": "code",
   "execution_count": 3,
   "metadata": {},
   "outputs": [],
   "source": [
    "enygma_model1.set_pymsesrc(nb_grains=20, rho=True, vel=True, Br=False)"
   ]
  },
  {
   "cell_type": "code",
   "execution_count": 4,
   "metadata": {},
   "outputs": [],
   "source": [
    "enygma_model1.do_ramses2radmc(nb_grains=20)"
   ]
  },
  {
   "cell_type": "code",
   "execution_count": null,
   "metadata": {},
   "outputs": [],
   "source": [
    "# -----RUN THERMAL-----\n",
    "enygma_model1.thermal(run=False, nphot = 8e6, \\\n",
    "              write_dens=True, \\\n",
    "              write_grid=False, \\\n",
    "              nphot_scat = 8e6, \\\n",
    "              nphot_spec = 1e5, \\\n",
    "              itempdecoup = 1, \\\n",
    "              istar_sphere = 1, \\\n",
    "              modified_random_walk = 1, \\\n",
    "              scattering_mode_max = 2, \\\n",
    "              tgas_eq_tdust = 0)"
   ]
  },
  {
   "cell_type": "code",
   "execution_count": null,
   "metadata": {},
   "outputs": [],
   "source": [
    "enygma_model1.do_ramses2polaris(nb_grains=20)"
   ]
  },
  {
   "cell_type": "code",
   "execution_count": null,
   "metadata": {},
   "outputs": [],
   "source": [
    "enygma_model1.plot(radmc_temp = True, polaris_temp = True, pol_map=True)"
   ]
  },
  {
   "cell_type": "code",
   "execution_count": null,
   "metadata": {},
   "outputs": [],
   "source": []
  }
 ],
 "metadata": {
  "kernelspec": {
   "display_name": "pymses",
   "language": "python",
   "name": "python3"
  },
  "language_info": {
   "codemirror_mode": {
    "name": "ipython",
    "version": 3
   },
   "file_extension": ".py",
   "mimetype": "text/x-python",
   "name": "python",
   "nbconvert_exporter": "python",
   "pygments_lexer": "ipython3",
   "version": "3.10.16"
  }
 },
 "nbformat": 4,
 "nbformat_minor": 2
}
